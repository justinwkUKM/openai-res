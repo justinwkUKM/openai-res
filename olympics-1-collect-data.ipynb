{
 "cells": [
  {
   "cell_type": "markdown",
   "metadata": {},
   "source": [
    "<span style=\"color:orange; font-weight:bold\">Note: To answer questions based on text documents, we recommend the procedure in <a href=\"https://github.com/openai/openai-cookbook/blob/main/examples/Question_answering_using_embeddings.ipynb\">Question Answering using Embeddings</a>. Some of the code below may rely on <a href=\"https://github.com/openai/openai-cookbook/tree/main/transition_guides_for_deprecated_API_endpoints\">deprecated API endpoints</a>.</span>"
   ]
  },
  {
   "cell_type": "markdown",
   "metadata": {},
   "source": [
    "# 1. Collect Wikipedia data about Olympic Games 2020\n",
    "\n",
    "The idea of this project is to create a question answering model, based on a few paragraphs of provided text. Base GPT-3 models do a good job at answering questions when the answer is contained within the paragraph, however if the answer isn't contained, the base models tend to try their best to answer anyway, often leading to confabulated answers. \n",
    "\n",
    "To create a model which answers questions only if there is sufficient context for doing so, we first create a dataset of questions and answers based on paragraphs of text. In order to train the model to answer only when the answer is present, we also add adversarial examples, where the question doesn't match the context. In those cases, we ask the model to output \"No sufficient context for answering the question\". \n",
    "\n",
    "We will perform this task in three notebooks:\n",
    "1. The first (this) notebook focuses on collecting recent data, which GPT-3 didn't see during it's pre-training. We picked the topic of Olympic Games 2020 (which actually took place in the summer of 2021), and downloaded 713 unique pages. We organized the dataset by individual sections, which will serve as context for asking and answering the questions.\n",
    "2. The [second notebook](olympics-2-create-qa.ipynb) will utilize Davinci-instruct to ask a few questions based on a Wikipedia section, as well as answer those questions, based on that section.\n",
    "3. The [third notebook](olympics-3-train-qa.ipynb) will utilize the dataset of context, question and answer pairs to additionally create adversarial questions and context pairs, where the question was not generated on that context. In those cases the model will be prompted to answer \"No sufficient context for answering the question\". We will also train a discriminator model, which predicts whether the question can be answered based on the context or not."
   ]
  },
  {
   "cell_type": "markdown",
   "metadata": {},
   "source": [
    "## 1.1 Data extraction using the wikipedia API\n",
    "Extracting the data will take about half an hour, and processing will likely take about as much."
   ]
  },
  {
   "cell_type": "code",
   "execution_count": 1,
   "metadata": {},
   "outputs": [
    {
     "name": "stdout",
     "output_type": "stream",
     "text": [
      "Requirement already satisfied: pandas in /Users/WObeidy/opt/anaconda3/lib/python3.9/site-packages (1.4.4)\n",
      "Collecting wikipedia\n",
      "  Downloading wikipedia-1.4.0.tar.gz (27 kB)\n",
      "  Preparing metadata (setup.py) ... \u001b[?25ldone\n",
      "\u001b[?25hRequirement already satisfied: python-dateutil>=2.8.1 in /Users/WObeidy/opt/anaconda3/lib/python3.9/site-packages (from pandas) (2.8.2)\n",
      "Requirement already satisfied: pytz>=2020.1 in /Users/WObeidy/opt/anaconda3/lib/python3.9/site-packages (from pandas) (2022.1)\n",
      "Requirement already satisfied: numpy>=1.18.5 in /Users/WObeidy/opt/anaconda3/lib/python3.9/site-packages (from pandas) (1.21.5)\n",
      "Requirement already satisfied: beautifulsoup4 in /Users/WObeidy/opt/anaconda3/lib/python3.9/site-packages (from wikipedia) (4.11.1)\n",
      "Requirement already satisfied: requests<3.0.0,>=2.0.0 in /Users/WObeidy/opt/anaconda3/lib/python3.9/site-packages (from wikipedia) (2.28.1)\n",
      "Requirement already satisfied: six>=1.5 in /Users/WObeidy/opt/anaconda3/lib/python3.9/site-packages (from python-dateutil>=2.8.1->pandas) (1.16.0)\n",
      "Requirement already satisfied: certifi>=2017.4.17 in /Users/WObeidy/opt/anaconda3/lib/python3.9/site-packages (from requests<3.0.0,>=2.0.0->wikipedia) (2022.9.24)\n",
      "Requirement already satisfied: idna<4,>=2.5 in /Users/WObeidy/opt/anaconda3/lib/python3.9/site-packages (from requests<3.0.0,>=2.0.0->wikipedia) (3.3)\n",
      "Requirement already satisfied: urllib3<1.27,>=1.21.1 in /Users/WObeidy/opt/anaconda3/lib/python3.9/site-packages (from requests<3.0.0,>=2.0.0->wikipedia) (1.26.11)\n",
      "Requirement already satisfied: charset-normalizer<3,>=2 in /Users/WObeidy/opt/anaconda3/lib/python3.9/site-packages (from requests<3.0.0,>=2.0.0->wikipedia) (2.0.4)\n",
      "Requirement already satisfied: soupsieve>1.2 in /Users/WObeidy/opt/anaconda3/lib/python3.9/site-packages (from beautifulsoup4->wikipedia) (2.3.1)\n",
      "Building wheels for collected packages: wikipedia\n",
      "  Building wheel for wikipedia (setup.py) ... \u001b[?25ldone\n",
      "\u001b[?25h  Created wheel for wikipedia: filename=wikipedia-1.4.0-py3-none-any.whl size=11680 sha256=0bd892a6f1aee366a79a4125adfc86337ab8e43675a1964f509513c02e5315c2\n",
      "  Stored in directory: /Users/WObeidy/Library/Caches/pip/wheels/c2/46/f4/caa1bee71096d7b0cdca2f2a2af45cacf35c5760bee8f00948\n",
      "Successfully built wikipedia\n",
      "Installing collected packages: wikipedia\n",
      "Successfully installed wikipedia-1.4.0\n"
     ]
    }
   ],
   "source": [
    "!pip install pandas wikipedia "
   ]
  },
  {
   "cell_type": "code",
   "execution_count": 6,
   "metadata": {},
   "outputs": [
    {
     "name": "stdout",
     "output_type": "stream",
     "text": [
      "['2020 Summer Olympics']\n",
      "['South Africa at the 2020 Summer Olympics', 'Lesotho at the 2020 Summer Olympics', 'Dominica at the 2020 Summer Olympics', 'Field hockey at the 2020 Summer Olympics', 'Cook Islands at the 2020 Summer Olympics', 'Greece at the 2020 Summer Olympics', \"2020 FIBA Women's Olympic Qualifying Tournaments – Belgrade 2\", 'Cambodia at the 2020 Summer Olympics', 'Venezuela at the 2020 Summer Olympics', 'France at the 2020 Summer Olympics']\n",
      "[\"Cycling at the 2020 Summer Olympics – Men's omnium\", \"Swimming at the 2020 Summer Olympics – Men's 200 metre backstroke\", \"Swimming at the 2020 Summer Olympics – Men's 200 metre butterfly\", \"Rowing at the 2020 Summer Olympics – Men's coxless pair\", 'Golf at the 2020 Summer Olympics', 'Aruba at the 2020 Summer Olympics']\n",
      "[\"Cycling at the 2020 Summer Olympics – Men's keirin\", \"Cycling at the 2020 Summer Olympics – Women's cross-country\", \"Cycling at the 2020 Summer Olympics – Women's team pursuit\", 'Germany at the 2020 Summer Olympics', \"Cycling at the 2020 Summer Olympics – Women's BMX freestyle\", 'Kazakhstan at the 2020 Summer Olympics', \"Cycling at the 2020 Summer Olympics – Men's road time trial\", 'Switzerland at the 2020 Summer Olympics', 'Great Britain at the 2020 Summer Olympics', 'Cycling at the 2020 Summer Olympics', \"Cycling at the 2020 Summer Olympics – Men's cross-country\", \"Cycling at the 2020 Summer Olympics – Men's sprint\", 'List of cyclists at the 2020 Summer Olympics']\n",
      "['Russian Olympic Committee athletes at the 2020 Summer Olympics', \"Cycling at the 2020 Summer Olympics – Women's BMX racing\", 'Cycling at the 2020 Summer Olympics – Qualification', \"Cycling at the 2020 Summer Olympics – Women's team sprint\", \"Cycling at the 2020 Summer Olympics – Men's individual road race\", 'Japan at the 2020 Summer Olympics']\n",
      "[\"Wrestling at the 2020 Summer Olympics – Women's freestyle 50 kg\", 'Judo at the 2020 Summer Olympics - Qualification', \"Fencing at the 2020 Summer Olympics – Women's épée\", \"Wrestling at the 2020 Summer Olympics – Women's freestyle 57 kg\", 'Ethiopia at the 2020 Summer Olympics', 'Thailand at the 2020 Summer Olympics']\n",
      "[\"Wrestling at the 2020 Summer Olympics – Men's freestyle 57 kg\", \"Wrestling at the 2020 Summer Olympics – Men's freestyle 65 kg\", \"Wrestling at the 2020 Summer Olympics – Women's freestyle 68 kg\", 'Bulgaria at the 2020 Summer Olympics', 'Romania at the 2020 Summer Olympics', 'Ukraine at the 2020 Summer Olympics', \"Wrestling at the 2020 Summer Olympics – Men's Greco-Roman 130 kg\", 'China at the 2020 Summer Olympics', 'Cuba at the 2020 Summer Olympics', \"Wrestling at the 2020 Summer Olympics – Men's freestyle 97 kg\", 'Mongolia at the 2020 Summer Olympics']\n",
      "['Uzbekistan at the 2020 Summer Olympics', \"Wrestling at the 2020 Summer Olympics – Men's freestyle 125 kg\", \"Wrestling at the 2020 Summer Olympics – Men's Greco-Roman 87 kg\", \"Wrestling at the 2020 Summer Olympics – Men's Greco-Roman 77 kg\"]\n",
      "[\"Judo at the 2020 Summer Olympics – Men's 73 kg\", \"Weightlifting at the 2020 Summer Olympics – Women's 76 kg\", 'Modern pentathlon at the 2020 Summer Olympics', \"Gymnastics at the 2020 Summer Olympics – Women's vault\", 'Hong Kong at the 2020 Summer Olympics', 'Malta at the 2020 Summer Olympics', 'Democratic Republic of the Congo at the 2020 Summer Olympics', 'Eritrea at the 2020 Summer Olympics', \"Judo at the 2020 Summer Olympics – Men's 100 kg\", \"Boxing at the 2020 Summer Olympics – Women's lightweight\", 'Algeria at the 2020 Summer Olympics', 'Moldova at the 2020 Summer Olympics', 'Israel at the 2020 Summer Olympics', 'Sweden at the 2020 Summer Olympics']\n",
      "['Saudi Arabia at the 2020 Summer Olympics', \"Judo at the 2020 Summer Olympics – Women's 48 kg\", 'Refugee Olympic Team at the 2020 Summer Olympics', 'The Gambia at the 2020 Summer Olympics', 'List of judoka at the 2020 Summer Olympics', \"Judo at the 2020 Summer Olympics – Men's 60 kg\", 'Monaco at the 2020 Summer Olympics', \"Judo at the 2020 Summer Olympics – Women's 63 kg\"]\n",
      "['Kenya at the 2020 Summer Olympics', 'Football at the 2020 Summer Olympics', 'Somalia at the 2020 Summer Olympics', 'Table tennis at the 2020 Summer Olympics – Qualification', 'Botswana at the 2020 Summer Olympics', 'Laos at the 2020 Summer Olympics', 'List of 2020 Summer Olympics medal winners', 'Chinese Taipei at the 2020 Summer Olympics', 'Slovakia at the 2020 Summer Olympics', 'Bahrain at the 2020 Summer Olympics', \"Shooting at the 2020 Summer Olympics – Men's skeet\", 'Ivory Coast at the 2020 Summer Olympics', \"Karate at the 2020 Summer Olympics – Men's +75 kg\", \"Football at the 2020 Summer Olympics – Men's qualification\", 'Karate at the 2020 Summer Olympics', 'Shooting at the 2020 Summer Olympics – Qualification']\n",
      "[\"Beach volleyball at the 2020 Summer Olympics – Women's tournament\", \"Athletics at the 2020 Summer Olympics – Men's 1500 metres\"]\n",
      "['Artistic swimming at the 2020 Summer Olympics', 'Table tennis at the 2020 Summer Olympics', 'Equestrian at the 2020 Summer Olympics']\n",
      "['Chronological summary of the 2020 Summer Olympics', 'Water polo at the 2020 Summer Olympics', 'Diving at the 2020 Summer Olympics', 'Fencing at the 2020 Summer Olympics', 'Canoeing at the 2020 Summer Olympics', 'Artistic swimming at the 2020 Summer Olympics – Qualification', 'Softball at the 2020 Summer Olympics']\n",
      "[\"Athletics at the 2020 Summer Olympics – Women's 100 metres hurdles\", '2020 Summer Olympics pictograms', 'Equestrian at the 2020 Summer Olympics – Team eventing']\n",
      "[\"Athletics at the 2020 Summer Olympics – Women's 4 × 100 metres relay\", 'Bahamas at the 2020 Summer Olympics', 'Jamaica at the 2020 Summer Olympics']\n",
      "[\"Athletics at the 2020 Summer Olympics – Women's 200 metres\", \"Athletics at the 2020 Summer Olympics – Men's 200 metres\", \"Athletics at the 2020 Summer Olympics – Women's discus throw\", \"Athletics at the 2020 Summer Olympics – Women's javelin throw\"]\n",
      "[\"Athletics at the 2020 Summer Olympics – Women's 1500 metres\", \"Athletics at the 2020 Summer Olympics – Men's 4 × 100 metres relay\"]\n",
      "[]\n",
      "[]\n",
      "['Croatia at the 2020 Summer Olympics']\n",
      "['Sailing at the 2020 Summer Olympics – Qualification', 'Solomon Islands at the 2020 Summer Olympics', 'Estonia at the 2020 Summer Olympics', 'Bangladesh at the 2020 Summer Olympics', 'Guinea at the 2020 Summer Olympics']\n",
      "[\"Sailing at the 2020 Summer Olympics – Women's 470\"]\n",
      "['Mozambique at the 2020 Summer Olympics', 'Sailing at the 2020 Summer Olympics – 49er FX', 'Argentina at the 2020 Summer Olympics', \"Sailing at the 2020 Summer Olympics – Women's RS:X\"]\n",
      "['Kiribati at the 2020 Summer Olympics', 'Rwanda at the 2020 Summer Olympics', 'Mauritania at the 2020 Summer Olympics', 'Boxing at the 2020 Summer Olympics – Qualification', 'Cayman Islands at the 2020 Summer Olympics', 'Honduras at the 2020 Summer Olympics', 'Dominican Republic at the 2020 Summer Olympics', 'Burundi at the 2020 Summer Olympics', 'Tunisia at the 2020 Summer Olympics', 'Bhutan at the 2020 Summer Olympics', 'Andorra at the 2020 Summer Olympics', 'Virgin Islands at the 2020 Summer Olympics', 'Belize at the 2020 Summer Olympics', 'Guatemala at the 2020 Summer Olympics', 'Zimbabwe at the 2020 Summer Olympics', 'Kyrgyzstan at the 2020 Summer Olympics', 'Maldives at the 2020 Summer Olympics']\n",
      "[\"Weightlifting at the 2020 Summer Olympics – Men's 67 kg\", 'Costa Rica at the 2020 Summer Olympics', 'Seychelles at the 2020 Summer Olympics', 'Angola at the 2020 Summer Olympics', 'Serbia at the 2020 Summer Olympics', 'Bermuda at the 2020 Summer Olympics', 'Palau at the 2020 Summer Olympics', 'Burkina Faso at the 2020 Summer Olympics', 'Haiti at the 2020 Summer Olympics', 'Armenia at the 2020 Summer Olympics', 'Guyana at the 2020 Summer Olympics', 'Sri Lanka at the 2020 Summer Olympics', 'Liechtenstein at the 2020 Summer Olympics', 'Libya at the 2020 Summer Olympics', 'Chile at the 2020 Summer Olympics', 'Weightlifting at the 2020 Summer Olympics', 'Gabon at the 2020 Summer Olympics', 'Iran at the 2020 Summer Olympics', 'Bolivia at the 2020 Summer Olympics', 'Equatorial Guinea at the 2020 Summer Olympics', 'Belarus at the 2020 Summer Olympics', 'Sierra Leone at the 2020 Summer Olympics', 'Madagascar at the 2020 Summer Olympics', 'Azerbaijan at the 2020 Summer Olympics']\n",
      "[\"Weightlifting at the 2020 Summer Olympics – Men's 109 kg\", \"Weightlifting at the 2020 Summer Olympics – Women's 59 kg\", \"Weightlifting at the 2020 Summer Olympics – Women's 49 kg\", \"Weightlifting at the 2020 Summer Olympics – Men's 96 kg\"]\n",
      "[]\n",
      "['Vietnam at the 2020 Summer Olympics', 'Ecuador at the 2020 Summer Olympics']\n",
      "[\"Swimming at the 2020 Summer Olympics – Men's 800 metre freestyle\", \"Gymnastics at the 2020 Summer Olympics – Men's parallel bars\", \"Taekwondo at the 2020 Summer Olympics – Women's 49 kg\", \"Swimming at the 2020 Summer Olympics – Women's 200 metre freestyle\"]\n",
      "[\"Swimming at the 2020 Summer Olympics – Men's 100 metre freestyle\", \"Swimming at the 2020 Summer Olympics – Women's 1500 metre freestyle\", \"Swimming at the 2020 Summer Olympics – Women's 100 metre freestyle\", \"Swimming at the 2020 Summer Olympics – Men's 4 × 200 metre freestyle relay\", \"Swimming at the 2020 Summer Olympics – Men's 400 metre individual medley\", \"Swimming at the 2020 Summer Olympics – Women's 200 metre breaststroke\", \"Swimming at the 2020 Summer Olympics – Men's 200 metre freestyle\", \"Swimming at the 2020 Summer Olympics – Men's 100 metre backstroke\", \"Swimming at the 2020 Summer Olympics – Women's 4 × 100 metre freestyle relay\", \"Swimming at the 2020 Summer Olympics – Men's 4 × 100 metre medley relay\", \"Swimming at the 2020 Summer Olympics – Men's 1500 metre freestyle\", \"Swimming at the 2020 Summer Olympics – Women's 100 metre butterfly\", \"Swimming at the 2020 Summer Olympics – Men's 200 metre breaststroke\", \"Swimming at the 2020 Summer Olympics – Women's 100 metre backstroke\"]\n",
      "[]\n",
      "['New Zealand at the 2020 Summer Olympics', 'Austria at the 2020 Summer Olympics']\n",
      "[\"Football at the 2020 Summer Olympics – Women's tournament\"]\n",
      "[\"Table tennis at the 2020 Summer Olympics – Men's singles\", 'Table tennis at the 2020 Summer Olympics – Mixed doubles', \"Table tennis at the 2020 Summer Olympics – Women's team\"]\n",
      "[\"Table tennis at the 2020 Summer Olympics – Men's team\"]\n",
      "[]\n",
      "[]\n",
      "[]\n",
      "[]\n",
      "[]\n",
      "[]\n",
      "[]\n",
      "[]\n",
      "[]\n",
      "[]\n",
      "[]\n",
      "[]\n",
      "[]\n",
      "[]\n",
      "[]\n",
      "['List of gymnasts at the 2020 Summer Olympics', \"Gymnastics at the 2020 Summer Olympics – Women's artistic team all-around\"]\n",
      "['List of triathletes at the 2020 Summer Olympics', 'List of badminton players at the 2020 Summer Olympics']\n",
      "[]\n",
      "['Badminton at the 2020 Summer Olympics - Mixed doubles', 'Badminton at the 2020 Summer Olympics – Mixed doubles', \"Badminton at the 2020 Summer Olympics - Women's doubles\", \"Badminton at the 2020 Summer Olympics - Men's doubles\", \"Badminton at the 2020 Summer Olympics – Women's doubles\"]\n",
      "[]\n",
      "[]\n",
      "[]\n",
      "[]\n",
      "[]\n",
      "[]\n",
      "[\"Taekwondo at the 2020 Summer Olympics – Women's +67 kg\", \"Taekwondo at the 2020 Summer Olympics – Women's 67 kg\", \"Taekwondo at the 2020 Summer Olympics – Men's 80 kg\", \"Taekwondo at the 2020 Summer Olympics – Men's 58 kg\", \"Taekwondo at the 2020 Summer Olympics – Men's +80 kg\"]\n",
      "[\"Taekwondo at the 2020 Summer Olympics – Women's 57 kg\"]\n",
      "[]\n",
      "[]\n",
      "[]\n",
      "[]\n",
      "[]\n",
      "[]\n",
      "[]\n",
      "[]\n",
      "[]\n",
      "[\"Cycling at the 2020 Summer Olympics – Men's BMX freestyle\"]\n",
      "[\"Cycling at the 2020 Summer Olympics – Men's BMX\", \"Cycling at the 2020 Summer Olympics – Women's road time trial\", \"Skateboarding at the 2020 Summer Olympics – Men's park\"]\n",
      "[]\n",
      "[]\n",
      "[\"Skateboarding at the 2020 Summer Olympics – Women's park\", \"Skateboarding at the 2020 Summer Olympics – Men's street\"]\n",
      "[]\n",
      "[]\n",
      "['Swimming at the 2020 Summer Olympics - Qualification', \"Judo at the 2020 Summer Olympics – Men's 90 kg\"]\n",
      "[]\n",
      "['Judo at the 2020 Summer Olympics – Mixed team']\n",
      "[]\n",
      "[]\n",
      "[\"2020 FIBA Women's Olympic Qualifying Tournaments\"]\n",
      "[]\n",
      "[]\n",
      "[\"Athletics at the 2020 Summer Olympics - Men's triple jump\"]\n",
      "[]\n",
      "['2020 Pan American Taekwondo Olympic Qualification Tournament']\n",
      "[]\n",
      "['2020 European Boxing Olympic Qualification Tournament']\n",
      "[]\n",
      "[]\n",
      "['2020 Summer Olympics opening ceremony']\n",
      "[]\n",
      "[]\n",
      "[]\n",
      "[\"Canoeing at the 2020 Summer Olympics – Women's C-1 200 metres\"]\n",
      "[\"Canoeing at the 2020 Summer Olympics – Men's C-1 1000 metres\", \"Canoeing at the 2020 Summer Olympics – Women's C-2 500 metres\"]\n",
      "[]\n",
      "[]\n",
      "[]\n",
      "[]\n",
      "[]\n",
      "[]\n",
      "[]\n",
      "[]\n",
      "[]\n",
      "[]\n",
      "[\"Shooting at the 2020 Summer Olympics – Men's 25 metre rapid fire pistol\"]\n",
      "['Shooting at the 2020 Summer Olympics – Mixed trap team']\n",
      "[\"Shooting at the 2020 Summer Olympics – Men's trap\"]\n",
      "[]\n",
      "[]\n",
      "[]\n",
      "[]\n",
      "[]\n",
      "[]\n",
      "[]\n",
      "[]\n",
      "[]\n",
      "[]\n",
      "[]\n",
      "[]\n",
      "[]\n",
      "[]\n",
      "[]\n",
      "[]\n",
      "[]\n",
      "[]\n",
      "[]\n",
      "[]\n",
      "[]\n",
      "['Tennis at the 2020 Summer Olympics - Qualification', \"Rowing at the 2020 Summer Olympics – Men's quadruple sculls\"]\n",
      "[]\n",
      "[\"Rowing at the 2020 Summer Olympics – Women's coxless four\", \"Rowing at the 2020 Summer Olympics – Men's coxless four\"]\n",
      "[]\n",
      "[]\n",
      "[]\n",
      "[]\n",
      "[]\n",
      "[\"Athletics at the 2020 Summer Olympics - Women's 400 metres\"]\n",
      "[]\n",
      "[\"Swimming at the 2020 Summer Olympics - Men's 200 metre butterfly\", \"Swimming at the 2020 Summer Olympics - Men's 200 metre individual medley\"]\n",
      "[]\n",
      "[]\n",
      "[]\n",
      "[]\n",
      "[]\n",
      "[]\n",
      "[]\n",
      "[]\n",
      "[]\n",
      "[]\n",
      "[]\n",
      "[]\n",
      "[]\n",
      "[\"Football at the 2020 Summer Olympics – Women's tournament – Group F\", \"2020 CAF Women's Olympic Qualifying Tournament\"]\n",
      "[]\n",
      "[]\n",
      "[]\n",
      "[]\n",
      "[]\n",
      "[]\n",
      "[]\n",
      "[]\n",
      "[]\n",
      "[]\n",
      "[]\n",
      "[]\n",
      "[]\n",
      "[]\n",
      "[]\n",
      "[]\n",
      "[]\n",
      "[]\n",
      "[]\n",
      "[]\n",
      "[]\n",
      "[]\n",
      "[]\n",
      "[]\n",
      "[]\n",
      "[]\n",
      "[]\n",
      "[]\n",
      "[]\n",
      "[]\n",
      "[]\n",
      "[]\n",
      "[]\n",
      "[]\n",
      "[]\n",
      "[]\n",
      "[]\n",
      "[]\n",
      "[]\n",
      "[]\n",
      "[]\n",
      "[]\n",
      "[\"Canoeing at the 2020 Summer Olympics - Men's C-1 1000 metres\"]\n",
      "[]\n",
      "[]\n",
      "[]\n",
      "[]\n",
      "[]\n",
      "[]\n",
      "[]\n",
      "[]\n",
      "[]\n",
      "[]\n",
      "[]\n",
      "[]\n",
      "[\"Cycling at the 2020 Summer Olympics – Women's BMX\"]\n",
      "[]\n",
      "[]\n",
      "[]\n",
      "[]\n",
      "[]\n",
      "[]\n",
      "[]\n",
      "[]\n",
      "[]\n",
      "[]\n",
      "[]\n",
      "[]\n",
      "[]\n",
      "[]\n",
      "[]\n",
      "[]\n",
      "[\"Cycling at the 2020 Summer Olympics – Men's road race\", \"Cycling at the 2020 Summer Olympics – Women's road race\"]\n",
      "[]\n",
      "[]\n",
      "[]\n",
      "[]\n",
      "[]\n",
      "[]\n",
      "[]\n",
      "[]\n",
      "[]\n",
      "[]\n",
      "[]\n",
      "[]\n",
      "[\"2020 FIBA Men's Olympic Qualifying Tournaments – Victoria\", \"2020 FIBA Women's Olympic Qualifying Tournaments – Bourges\", \"2020 FIBA Men's Olympic Qualifying Tournaments – Belgrade\"]\n",
      "[\"2020 FIBA Men's Olympic Qualifying Tournaments squads\", \"2020 Slovenia men's Olympic basketball team\"]\n",
      "[\"2020 FIBA Men's Olympic Qualifying Tournaments – Kaunas\"]\n",
      "[]\n",
      "[]\n",
      "[\"2020 FIBA Women's Olympic Qualifying Tournaments squads\"]\n",
      "[]\n",
      "[]\n",
      "[]\n",
      "[]\n",
      "[]\n"
     ]
    },
    {
     "data": {
      "text/plain": [
       "244"
      ]
     },
     "execution_count": 6,
     "metadata": {},
     "output_type": "execute_result"
    }
   ],
   "source": [
    "import pandas as pd\n",
    "import wikipedia\n",
    "\n",
    "\n",
    "def filter_olympic_2020_titles(titles):\n",
    "    \"\"\"\n",
    "    Get the titles which are related to Olympic games hosted in 2020, given a list of titles\n",
    "    \"\"\"\n",
    "    titles = [title for title in titles[:30] if '2020' in title and 'olympi' in title.lower()]\n",
    "    print(titles)\n",
    "    return titles\n",
    "\n",
    "def get_wiki_page(title):\n",
    "    \"\"\"\n",
    "    Get the wikipedia page given a title\n",
    "    \"\"\"\n",
    "    try:\n",
    "        return wikipedia.page(title)\n",
    "    except wikipedia.exceptions.DisambiguationError as e:\n",
    "        return wikipedia.page(e.options[0])\n",
    "    except wikipedia.exceptions.PageError as e:\n",
    "        return None\n",
    "\n",
    "def recursively_find_all_pages(titles, titles_so_far=set()):\n",
    "    \"\"\"\n",
    "    Recursively find all the pages that are linked to the Wikipedia titles in the list\n",
    "    \"\"\"\n",
    "    all_pages = []\n",
    "    \n",
    "    titles = list(set(titles) - titles_so_far)\n",
    "    titles = filter_olympic_2020_titles(titles)\n",
    "    titles_so_far.update(titles)\n",
    "    for title in titles:\n",
    "        page = get_wiki_page(title)\n",
    "        if page is None:\n",
    "            continue\n",
    "        all_pages.append(page)\n",
    "\n",
    "        new_pages = recursively_find_all_pages(page.links, titles_so_far)\n",
    "        for pg in new_pages:\n",
    "            if pg.title not in [p.title for p in all_pages]:\n",
    "                all_pages.append(pg)\n",
    "        titles_so_far.update(page.links)\n",
    "    return all_pages\n",
    "\n",
    "\n",
    "pages = recursively_find_all_pages([\"2020 Summer Olympics\"])\n",
    "len(pages)"
   ]
  },
  {
   "cell_type": "markdown",
   "metadata": {},
   "source": [
    "## 1.2 Filtering the Wikipedia pages and splitting them into sections by headings\n",
    "We remove sections unlikely to contain textual information, and ensure that each section is not longer than the token limit"
   ]
  },
  {
   "cell_type": "code",
   "execution_count": 11,
   "metadata": {},
   "outputs": [
    {
     "name": "stdout",
     "output_type": "stream",
     "text": [
      "huggingface/tokenizers: The current process just got forked, after parallelism has already been used. Disabling parallelism to avoid deadlocks...\n",
      "To disable this warning, you can either:\n",
      "\t- Avoid using `tokenizers` before the fork if possible\n",
      "\t- Explicitly set the environment variable TOKENIZERS_PARALLELISM=(true | false)\n",
      "Requirement already satisfied: transformers in /Users/WObeidy/opt/anaconda3/lib/python3.9/site-packages (4.26.1)\n",
      "Requirement already satisfied: nltk in /Users/WObeidy/opt/anaconda3/lib/python3.9/site-packages (3.7)\n",
      "Requirement already satisfied: tokenizers!=0.11.3,<0.14,>=0.11.1 in /Users/WObeidy/opt/anaconda3/lib/python3.9/site-packages (from transformers) (0.13.2)\n",
      "Requirement already satisfied: requests in /Users/WObeidy/opt/anaconda3/lib/python3.9/site-packages (from transformers) (2.28.1)\n",
      "Requirement already satisfied: tqdm>=4.27 in /Users/WObeidy/opt/anaconda3/lib/python3.9/site-packages (from transformers) (4.64.1)\n",
      "Requirement already satisfied: filelock in /Users/WObeidy/opt/anaconda3/lib/python3.9/site-packages (from transformers) (3.6.0)\n",
      "Requirement already satisfied: numpy>=1.17 in /Users/WObeidy/opt/anaconda3/lib/python3.9/site-packages (from transformers) (1.21.5)\n",
      "Requirement already satisfied: packaging>=20.0 in /Users/WObeidy/opt/anaconda3/lib/python3.9/site-packages (from transformers) (21.3)\n",
      "Requirement already satisfied: pyyaml>=5.1 in /Users/WObeidy/opt/anaconda3/lib/python3.9/site-packages (from transformers) (6.0)\n",
      "Requirement already satisfied: huggingface-hub<1.0,>=0.11.0 in /Users/WObeidy/opt/anaconda3/lib/python3.9/site-packages (from transformers) (0.12.1)\n",
      "Requirement already satisfied: regex!=2019.12.17 in /Users/WObeidy/opt/anaconda3/lib/python3.9/site-packages (from transformers) (2022.7.9)\n",
      "Requirement already satisfied: click in /Users/WObeidy/opt/anaconda3/lib/python3.9/site-packages (from nltk) (8.0.4)\n",
      "Requirement already satisfied: joblib in /Users/WObeidy/opt/anaconda3/lib/python3.9/site-packages (from nltk) (1.1.0)\n",
      "Requirement already satisfied: typing-extensions>=3.7.4.3 in /Users/WObeidy/opt/anaconda3/lib/python3.9/site-packages (from huggingface-hub<1.0,>=0.11.0->transformers) (4.3.0)\n",
      "Requirement already satisfied: pyparsing!=3.0.5,>=2.0.2 in /Users/WObeidy/opt/anaconda3/lib/python3.9/site-packages (from packaging>=20.0->transformers) (3.0.9)\n",
      "Requirement already satisfied: idna<4,>=2.5 in /Users/WObeidy/opt/anaconda3/lib/python3.9/site-packages (from requests->transformers) (3.3)\n",
      "Requirement already satisfied: certifi>=2017.4.17 in /Users/WObeidy/opt/anaconda3/lib/python3.9/site-packages (from requests->transformers) (2022.9.24)\n",
      "Requirement already satisfied: charset-normalizer<3,>=2 in /Users/WObeidy/opt/anaconda3/lib/python3.9/site-packages (from requests->transformers) (2.0.4)\n",
      "Requirement already satisfied: urllib3<1.27,>=1.21.1 in /Users/WObeidy/opt/anaconda3/lib/python3.9/site-packages (from requests->transformers) (1.26.11)\n"
     ]
    }
   ],
   "source": [
    "!pip install transformers nltk"
   ]
  },
  {
   "cell_type": "code",
   "execution_count": 9,
   "metadata": {},
   "outputs": [
    {
     "data": {
      "text/plain": [
       "('Bermuda at the 2020 Summer Olympics',\n",
       " 'Equestrian',\n",
       " \"Bermuda entered one dressage rider into the Olympic competition by finishing in the top four, outside the group selection, of the individual FEI Olympic Rankings for Groups D and E (North, Central, and South America), marking the country's recurrence to the sport after an eight-year absence. The quota was later withdrawn, following an injury of Annabelle Collins' main horse Joyero and a failure to obtain minimum eligibility requirements (MER) aboard a new horse Chuppy Checker.\",\n",
       " 104)"
      ]
     },
     "execution_count": 9,
     "metadata": {},
     "output_type": "execute_result"
    }
   ],
   "source": [
    "\n",
    "import re\n",
    "from typing import Set\n",
    "from transformers import GPT2TokenizerFast\n",
    "\n",
    "import numpy as np\n",
    "from nltk.tokenize import sent_tokenize\n",
    "\n",
    "tokenizer = GPT2TokenizerFast.from_pretrained(\"gpt2\")\n",
    "\n",
    "def count_tokens(text: str) -> int:\n",
    "    \"\"\"count the number of tokens in a string\"\"\"\n",
    "    return len(tokenizer.encode(text))\n",
    "\n",
    "def reduce_long(\n",
    "    long_text: str, long_text_tokens: bool = False, max_len: int = 590\n",
    ") -> str:\n",
    "    \"\"\"\n",
    "    Reduce a long text to a maximum of `max_len` tokens by potentially cutting at a sentence end\n",
    "    \"\"\"\n",
    "    if not long_text_tokens:\n",
    "        long_text_tokens = count_tokens(long_text)\n",
    "    if long_text_tokens > max_len:\n",
    "        sentences = sent_tokenize(long_text.replace(\"\\n\", \" \"))\n",
    "        ntokens = 0\n",
    "        for i, sentence in enumerate(sentences):\n",
    "            ntokens += 1 + count_tokens(sentence)\n",
    "            if ntokens > max_len:\n",
    "                return \". \".join(sentences[:i][:-1]) + \".\"\n",
    "\n",
    "    return long_text\n",
    "\n",
    "discard_categories = ['See also', 'References', 'External links', 'Further reading', \"Footnotes\",\n",
    "    \"Bibliography\", \"Sources\", \"Citations\", \"Literature\", \"Footnotes\", \"Notes and references\",\n",
    "    \"Photo gallery\", \"Works cited\", \"Photos\", \"Gallery\", \"Notes\", \"References and sources\",\n",
    "    \"References and notes\",]\n",
    "\n",
    "\n",
    "def extract_sections(\n",
    "    wiki_text: str,\n",
    "    title: str,\n",
    "    max_len: int = 1500,\n",
    "    discard_categories: Set[str] = discard_categories,\n",
    ") -> str:\n",
    "    \"\"\"\n",
    "    Extract the sections of a Wikipedia page, discarding the references and other low information sections\n",
    "    \"\"\"\n",
    "    if len(wiki_text) == 0:\n",
    "        return []\n",
    "\n",
    "    # find all headings and the coresponding contents\n",
    "    headings = re.findall(\"==+ .* ==+\", wiki_text)\n",
    "    for heading in headings:\n",
    "        wiki_text = wiki_text.replace(heading, \"==+ !! ==+\")\n",
    "    contents = wiki_text.split(\"==+ !! ==+\")\n",
    "    contents = [c.strip() for c in contents]\n",
    "    assert len(headings) == len(contents) - 1\n",
    "\n",
    "    cont = contents.pop(0).strip()\n",
    "    outputs = [(title, \"Summary\", cont, count_tokens(cont)+4)]\n",
    "    \n",
    "    # discard the discard categories, accounting for a tree structure\n",
    "    max_level = 100\n",
    "    keep_group_level = max_level\n",
    "    remove_group_level = max_level\n",
    "    nheadings, ncontents = [], []\n",
    "    for heading, content in zip(headings, contents):\n",
    "        plain_heading = \" \".join(heading.split(\" \")[1:-1])\n",
    "        num_equals = len(heading.split(\" \")[0])\n",
    "        if num_equals <= keep_group_level:\n",
    "            keep_group_level = max_level\n",
    "\n",
    "        if num_equals > remove_group_level:\n",
    "            if (\n",
    "                num_equals <= keep_group_level\n",
    "            ):\n",
    "                continue\n",
    "        keep_group_level = max_level\n",
    "        if plain_heading in discard_categories:\n",
    "            remove_group_level = num_equals\n",
    "            keep_group_level = max_level\n",
    "            continue\n",
    "        nheadings.append(heading.replace(\"=\", \"\").strip())\n",
    "        ncontents.append(content)\n",
    "        remove_group_level = max_level\n",
    "\n",
    "    # count the tokens of each section\n",
    "    ncontent_ntokens = [\n",
    "        count_tokens(c)\n",
    "        + 3\n",
    "        + count_tokens(\" \".join(h.split(\" \")[1:-1]))\n",
    "        - (1 if len(c) == 0 else 0)\n",
    "        for h, c in zip(nheadings, ncontents)\n",
    "    ]\n",
    "\n",
    "    # Create a tuple of (title, section_name, content, number of tokens)\n",
    "    outputs += [(title, h, c, t) if t<max_len \n",
    "                else (title, h, reduce_long(c, max_len), count_tokens(reduce_long(c,max_len))) \n",
    "                    for h, c, t in zip(nheadings, ncontents, ncontent_ntokens)]\n",
    "    \n",
    "    return outputs\n",
    "\n",
    "# Example page being processed into sections\n",
    "bermuda_page = get_wiki_page('Bermuda at the 2020 Summer Olympics')\n",
    "ber = extract_sections(bermuda_page.content, bermuda_page.title)\n",
    "\n",
    "# Example section\n",
    "ber[-1]\n"
   ]
  },
  {
   "cell_type": "markdown",
   "metadata": {},
   "source": [
    "### 1.2.1 We create a dataset and filter out any sections with fewer than 40 tokens, as those are unlikely to contain enough context to ask a good question."
   ]
  },
  {
   "cell_type": "code",
   "execution_count": 14,
   "metadata": {},
   "outputs": [
    {
     "name": "stderr",
     "output_type": "stream",
     "text": [
      "[nltk_data] Downloading package punkt to /Users/WObeidy/nltk_data...\n",
      "[nltk_data]   Unzipping tokenizers/punkt.zip.\n"
     ]
    },
    {
     "data": {
      "text/html": [
       "<div>\n",
       "<style scoped>\n",
       "    .dataframe tbody tr th:only-of-type {\n",
       "        vertical-align: middle;\n",
       "    }\n",
       "\n",
       "    .dataframe tbody tr th {\n",
       "        vertical-align: top;\n",
       "    }\n",
       "\n",
       "    .dataframe thead th {\n",
       "        text-align: right;\n",
       "    }\n",
       "</style>\n",
       "<table border=\"1\" class=\"dataframe\">\n",
       "  <thead>\n",
       "    <tr style=\"text-align: right;\">\n",
       "      <th></th>\n",
       "      <th>title</th>\n",
       "      <th>heading</th>\n",
       "      <th>content</th>\n",
       "      <th>tokens</th>\n",
       "    </tr>\n",
       "  </thead>\n",
       "  <tbody>\n",
       "    <tr>\n",
       "      <th>0</th>\n",
       "      <td>2020 Summer Olympics</td>\n",
       "      <td>Summary</td>\n",
       "      <td>The 2020 Summer Olympics (Japanese: 2020年夏季オリン...</td>\n",
       "      <td>721</td>\n",
       "    </tr>\n",
       "    <tr>\n",
       "      <th>1</th>\n",
       "      <td>2020 Summer Olympics</td>\n",
       "      <td>Host city selection</td>\n",
       "      <td>The International Olympic Committee (IOC) vote...</td>\n",
       "      <td>126</td>\n",
       "    </tr>\n",
       "    <tr>\n",
       "      <th>2</th>\n",
       "      <td>2020 Summer Olympics</td>\n",
       "      <td>Impact of the COVID-19 pandemic</td>\n",
       "      <td>In January 2020, concerns were raised about th...</td>\n",
       "      <td>374</td>\n",
       "    </tr>\n",
       "    <tr>\n",
       "      <th>3</th>\n",
       "      <td>2020 Summer Olympics</td>\n",
       "      <td>Qualifying event cancellation and postponement</td>\n",
       "      <td>Concerns about the pandemic began to affect qu...</td>\n",
       "      <td>298</td>\n",
       "    </tr>\n",
       "    <tr>\n",
       "      <th>4</th>\n",
       "      <td>2020 Summer Olympics</td>\n",
       "      <td>Effect on doping tests</td>\n",
       "      <td>Mandatory doping tests were being severely res...</td>\n",
       "      <td>163</td>\n",
       "    </tr>\n",
       "  </tbody>\n",
       "</table>\n",
       "</div>"
      ],
      "text/plain": [
       "                  title                                         heading  \\\n",
       "0  2020 Summer Olympics                                         Summary   \n",
       "1  2020 Summer Olympics                             Host city selection   \n",
       "2  2020 Summer Olympics                 Impact of the COVID-19 pandemic   \n",
       "3  2020 Summer Olympics  Qualifying event cancellation and postponement   \n",
       "4  2020 Summer Olympics                          Effect on doping tests   \n",
       "\n",
       "                                             content  tokens  \n",
       "0  The 2020 Summer Olympics (Japanese: 2020年夏季オリン...     721  \n",
       "1  The International Olympic Committee (IOC) vote...     126  \n",
       "2  In January 2020, concerns were raised about th...     374  \n",
       "3  Concerns about the pandemic began to affect qu...     298  \n",
       "4  Mandatory doping tests were being severely res...     163  "
      ]
     },
     "execution_count": 14,
     "metadata": {},
     "output_type": "execute_result"
    }
   ],
   "source": [
    "import nltk\n",
    "nltk.download('punkt')\n",
    "res = []\n",
    "for page in pages:\n",
    "    res += extract_sections(page.content, page.title)\n",
    "df = pd.DataFrame(res, columns=[\"title\", \"heading\", \"content\", \"tokens\"])\n",
    "df = df[df.tokens>40]\n",
    "df = df.drop_duplicates(['title','heading'])\n",
    "df = df.reset_index().drop('index',axis=1) # reset index\n",
    "df.head()"
   ]
  },
  {
   "cell_type": "markdown",
   "metadata": {},
   "source": [
    "### Save the section dataset\n",
    "We will save the section dataset, for the [next notebook](olympics-2-create-qa.ipynb)"
   ]
  },
  {
   "cell_type": "code",
   "execution_count": 16,
   "metadata": {},
   "outputs": [],
   "source": [
    "df.to_csv('olympics-data/olympics_sections.csv', index=False)"
   ]
  },
  {
   "cell_type": "markdown",
   "metadata": {},
   "source": [
    "## 1.3 (Optional) Exploring the data "
   ]
  },
  {
   "cell_type": "code",
   "execution_count": 17,
   "metadata": {},
   "outputs": [
    {
     "data": {
      "text/plain": [
       "Great Britain at the 2020 Summer Olympics    43\n",
       "Germany at the 2020 Summer Olympics          36\n",
       "Venezuela at the 2020 Summer Olympics        34\n",
       "Japan at the 2020 Summer Olympics            34\n",
       "France at the 2020 Summer Olympics           32\n",
       "Name: title, dtype: int64"
      ]
     },
     "execution_count": 17,
     "metadata": {},
     "output_type": "execute_result"
    }
   ],
   "source": [
    "df.title.value_counts().head()"
   ]
  },
  {
   "cell_type": "markdown",
   "metadata": {},
   "source": [
    "There appear to be winter and summer Olympics 2020. We chose to leave a little ambiguity and noise in the dataset, even though we were interested in only Summer Olympics 2020."
   ]
  },
  {
   "cell_type": "code",
   "execution_count": 18,
   "metadata": {},
   "outputs": [
    {
     "data": {
      "text/plain": [
       "True     1427\n",
       "False      28\n",
       "Name: title, dtype: int64"
      ]
     },
     "execution_count": 18,
     "metadata": {},
     "output_type": "execute_result"
    }
   ],
   "source": [
    "df.title.str.contains('Summer').value_counts()"
   ]
  },
  {
   "cell_type": "code",
   "execution_count": 19,
   "metadata": {},
   "outputs": [
    {
     "data": {
      "text/plain": [
       "False    1455\n",
       "Name: title, dtype: int64"
      ]
     },
     "execution_count": 19,
     "metadata": {},
     "output_type": "execute_result"
    }
   ],
   "source": [
    "df.title.str.contains('Winter').value_counts()"
   ]
  },
  {
   "cell_type": "code",
   "execution_count": 20,
   "metadata": {},
   "outputs": [
    {
     "name": "stdout",
     "output_type": "stream",
     "text": [
      "huggingface/tokenizers: The current process just got forked, after parallelism has already been used. Disabling parallelism to avoid deadlocks...\n",
      "To disable this warning, you can either:\n",
      "\t- Avoid using `tokenizers` before the fork if possible\n",
      "\t- Explicitly set the environment variable TOKENIZERS_PARALLELISM=(true | false)\n"
     ]
    },
    {
     "data": {
      "image/png": "[encoded data removed]",
      "text/plain": [
       "<Figure size 640x480 with 1 Axes>"
      ]
     },
     "metadata": {},
     "output_type": "display_data"
    }
   ],
   "source": [
    "import pandas as pd\n",
    "from matplotlib import pyplot as plt\n",
    "\n",
    "df = pd.read_csv('olympics-data/olympics_sections.csv')\n",
    "df[['tokens']].hist()\n",
    "# add axis descriptions and title\n",
    "plt.xlabel('Number of tokens')\n",
    "plt.ylabel('Number of Wikipedia sections')\n",
    "plt.title('Distribution of number of tokens in Wikipedia sections')\n",
    "plt.show()"
   ]
  },
  {
   "cell_type": "markdown",
   "metadata": {},
   "source": [
    "We can see that the majority of section are fairly short (less than 500 tokens)."
   ]
  },
  {
   "cell_type": "code",
   "execution_count": null,
   "metadata": {},
   "outputs": [],
   "source": []
  }
 ],
 "metadata": {
  "kernelspec": {
   "display_name": "Python 3 (ipykernel)",
   "language": "python",
   "name": "python3"
  },
  "language_info": {
   "codemirror_mode": {
    "name": "ipython",
    "version": 3
   },
   "file_extension": ".py",
   "mimetype": "text/x-python",
   "name": "python",
   "nbconvert_exporter": "python",
   "pygments_lexer": "ipython3",
   "version": "3.9.13"
  },
  "vscode": {
   "interpreter": {
    "hash": "e5264f3fd16422514a3b10f9d18c322daae0b96543f33f9da99427b98c0a0f91"
   }
  }
 },
 "nbformat": 4,
 "nbformat_minor": 4
}
