{
 "cells": [
  {
   "cell_type": "code",
   "execution_count": 18,
   "metadata": {},
   "outputs": [],
   "source": [
    "import openai\n",
    "turbo3dot5=\"gpt-3.5-turbo\""
   ]
  },
  {
   "cell_type": "code",
   "execution_count": 3,
   "metadata": {},
   "outputs": [],
   "source": [
    "openai.api_key = open(\"key.txt\", \"r\").read().strip(\"\\n\")"
   ]
  },
  {
   "cell_type": "code",
   "execution_count": 5,
   "metadata": {},
   "outputs": [
    {
     "name": "stdout",
     "output_type": "stream",
     "text": [
      "{\n",
      "  \"choices\": [\n",
      "    {\n",
      "      \"finish_reason\": \"stop\",\n",
      "      \"index\": 0,\n",
      "      \"message\": {\n",
      "        \"content\": \"\\n\\nAs an AI language model, I do not have access to real-time data, but as of 2021, the estimated population of Malaysia is around 32.7 million.\",\n",
      "        \"role\": \"assistant\"\n",
      "      }\n",
      "    }\n",
      "  ],\n",
      "  \"created\": 1678505153,\n",
      "  \"id\": \"chatcmpl-6sk9hthbADXKDGiFx3Ue1RdAiSTw2\",\n",
      "  \"model\": \"gpt-3.5-turbo-0301\",\n",
      "  \"object\": \"chat.completion\",\n",
      "  \"usage\": {\n",
      "    \"completion_tokens\": 38,\n",
      "    \"prompt_tokens\": 14,\n",
      "    \"total_tokens\": 52\n",
      "  }\n",
      "}\n"
     ]
    }
   ],
   "source": [
    "completion = openai.ChatCompletion.create(\n",
    "    model=\"gpt-3.5-turbo\",\n",
    "    messages=[{\"role\":\"user\", \"content\":\"What is the population of Malaysia?\"}]\n",
    ")\n",
    "\n",
    "print(completion)"
   ]
  },
  {
   "cell_type": "markdown",
   "metadata": {},
   "source": []
  },
  {
   "cell_type": "code",
   "execution_count": 7,
   "metadata": {},
   "outputs": [
    {
     "name": "stdout",
     "output_type": "stream",
     "text": [
      "\n",
      "\n",
      "As an AI language model, I do not have access to real-time data, but as of 2021, the estimated population of Malaysia is around 32.7 million.\n"
     ]
    }
   ],
   "source": [
    "reply_content = completion.choices[0].message.content\n",
    "print(reply_content)"
   ]
  },
  {
   "cell_type": "code",
   "execution_count": 16,
   "metadata": {},
   "outputs": [],
   "source": [
    "message_history = []"
   ]
  },
  {
   "cell_type": "code",
   "execution_count": 20,
   "metadata": {},
   "outputs": [
    {
     "name": "stdout",
     "output_type": "stream",
     "text": [
      "[{'role': 'user', 'content': 'Whats the population of Malaysia as of 2021?'}, {'role': 'user', 'content': 'What the area of Japan in km square?'}]\n"
     ]
    }
   ],
   "source": [
    "user_input = input(\">: \")\n",
    "message_history.append({\"role\":\"user\", \"content\":user_input})\n",
    "print(message_history)"
   ]
  },
  {
   "cell_type": "code",
   "execution_count": 21,
   "metadata": {},
   "outputs": [
    {
     "name": "stdout",
     "output_type": "stream",
     "text": [
      "The area of Japan is approximately 377,915 square kilometers.\n"
     ]
    }
   ],
   "source": [
    "completion = openai.ChatCompletion.create(\n",
    "    model=turbo3dot5,\n",
    "    messages=message_history\n",
    ")\n",
    "\n",
    "reply_content = completion.choices[0].message.content\n",
    "print(reply_content)"
   ]
  },
  {
   "cell_type": "code",
   "execution_count": 22,
   "metadata": {},
   "outputs": [
    {
     "name": "stdout",
     "output_type": "stream",
     "text": [
      "[{'role': 'user', 'content': 'Whats the population of Malaysia as of 2021?'}, {'role': 'user', 'content': 'What the area of Japan in km square?'}, {'role': 'assistant', 'content': 'The area of Japan is approximately 377,915 square kilometers.'}]\n"
     ]
    }
   ],
   "source": [
    "message_history.append({\"role\":\"assistant\", \"content\":reply_content})\n",
    "print(message_history)"
   ]
  },
  {
   "cell_type": "code",
   "execution_count": 23,
   "metadata": {},
   "outputs": [
    {
     "name": "stdout",
     "output_type": "stream",
     "text": [
      "user input was >:  Whats the capital of Japan?\n",
      "message history is >: [{'role': 'user', 'content': 'Whats the population of Malaysia as of 2021?'}, {'role': 'user', 'content': 'What the area of Japan in km square?'}, {'role': 'assistant', 'content': 'The area of Japan is approximately 377,915 square kilometers.'}, {'role': 'user', 'content': 'Whats the capital of Japan?'}]\n"
     ]
    }
   ],
   "source": [
    "user_input = input(\">: \")\n",
    "print(\"user input was >: \", user_input)\n",
    "message_history.append({\"role\":\"user\", \"content\":user_input})\n",
    "print(\"message history is >:\", message_history)"
   ]
  },
  {
   "cell_type": "code",
   "execution_count": 24,
   "metadata": {},
   "outputs": [
    {
     "name": "stdout",
     "output_type": "stream",
     "text": [
      "The capital city of Japan is Tokyo.\n"
     ]
    }
   ],
   "source": [
    "completion = openai.ChatCompletion.create(\n",
    "    model=turbo3dot5,\n",
    "    messages=message_history\n",
    ")\n",
    "\n",
    "reply_content = completion.choices[0].message.content\n",
    "print(reply_content)"
   ]
  },
  {
   "cell_type": "code",
   "execution_count": 25,
   "metadata": {},
   "outputs": [
    {
     "name": "stdout",
     "output_type": "stream",
     "text": [
      "[{'role': 'user', 'content': 'Whats the population of Malaysia as of 2021?'}, {'role': 'user', 'content': 'What the area of Japan in km square?'}, {'role': 'assistant', 'content': 'The area of Japan is approximately 377,915 square kilometers.'}, {'role': 'user', 'content': 'Whats the capital of Japan?'}, {'role': 'assistant', 'content': 'The capital city of Japan is Tokyo.'}]\n"
     ]
    }
   ],
   "source": [
    "message_history.append({\"role\":\"assistant\", \"content\":reply_content})\n",
    "print(message_history)"
   ]
  },
  {
   "cell_type": "code",
   "execution_count": 27,
   "metadata": {},
   "outputs": [
    {
     "name": "stdout",
     "output_type": "stream",
     "text": [
      "user input was >:  Whats its area in KM square?\n",
      "message history is >: [{'role': 'user', 'content': 'Whats the population of Malaysia as of 2021?'}, {'role': 'user', 'content': 'What the area of Japan in km square?'}, {'role': 'assistant', 'content': 'The area of Japan is approximately 377,915 square kilometers.'}, {'role': 'user', 'content': 'Whats the capital of Japan?'}, {'role': 'assistant', 'content': 'The capital city of Japan is Tokyo.'}, {'role': 'user', 'content': ''}, {'role': 'user', 'content': 'Whats its area in KM square?'}]\n",
      "The area of Tokyo, Japan is approximately 2,194 square kilometers (847 square miles).\n",
      "[{'role': 'user', 'content': 'Whats the population of Malaysia as of 2021?'}, {'role': 'user', 'content': 'What the area of Japan in km square?'}, {'role': 'assistant', 'content': 'The area of Japan is approximately 377,915 square kilometers.'}, {'role': 'user', 'content': 'Whats the capital of Japan?'}, {'role': 'assistant', 'content': 'The capital city of Japan is Tokyo.'}, {'role': 'user', 'content': ''}, {'role': 'user', 'content': 'Whats its area in KM square?'}, {'role': 'assistant', 'content': 'The area of Tokyo, Japan is approximately 2,194 square kilometers (847 square miles).'}]\n"
     ]
    }
   ],
   "source": [
    "user_input = input(\">: \")\n",
    "print(\"user input was >: \", user_input)\n",
    "message_history.append({\"role\":\"user\", \"content\":user_input})\n",
    "print(\"message history is >:\", message_history)\n",
    "\n",
    "\n",
    "completion = openai.ChatCompletion.create(\n",
    "    model=turbo3dot5,\n",
    "    messages=message_history\n",
    ")\n",
    "\n",
    "reply_content = completion.choices[0].message.content\n",
    "print(reply_content)\n",
    "\n",
    "\n",
    "message_history.append({\"role\":\"assistant\", \"content\":reply_content})\n",
    "print(message_history)\n"
   ]
  },
  {
   "cell_type": "code",
   "execution_count": 28,
   "metadata": {},
   "outputs": [],
   "source": [
    "message_history = []\n",
    "\n",
    "def chat(inp, role=\"user\"):\n",
    "    message_history.append({\"role\":role, \"content\":inp})\n",
    "    completion = openai.ChatCompletion.create(\n",
    "    model=turbo3dot5,\n",
    "    messages=message_history\n",
    "    )\n",
    "\n",
    "    reply_content = completion.choices[0].message.content\n",
    "    print(reply_content)\n",
    "\n",
    "    message_history.append({\"role\":\"assistant\", \"content\":reply_content})\n",
    "\n",
    "    return reply_content\n"
   ]
  },
  {
   "cell_type": "code",
   "execution_count": 29,
   "metadata": {},
   "outputs": [
    {
     "name": "stdout",
     "output_type": "stream",
     "text": [
      "User input was >  Whats the area of Japan in KM?\n",
      "\n",
      "\n",
      "\n",
      "The area of Japan is approximately 377,915 square kilometers.\n",
      "\n",
      "User input was >  What its capital city?\n",
      "\n",
      "The capital city of Japan is Tokyo.\n",
      "\n",
      "User input was >  How big is it?\n",
      "\n",
      "The total area of Tokyo is approximately 2,187 square kilometers, and it has a population of over 13 million people, making it one of the largest and most populous cities in the world. Additionally, the wider Tokyo metropolitan area has a population of over 38 million people, which is approximately 30% of Japan's total population.\n",
      "\n"
     ]
    }
   ],
   "source": [
    "for i in range(3):\n",
    "    user_input = input(\".: \")\n",
    "    print(\"User input was > \",user_input)\n",
    "    print()\n",
    "    chat(user_input)\n",
    "    print()\n"
   ]
  },
  {
   "cell_type": "code",
   "execution_count": 30,
   "metadata": {},
   "outputs": [],
   "source": [
    "import tiktoken\n",
    "def num_tokens_from_string(string: str, encoding_name: str) -> int:\n",
    "    \"\"\"Returns the number of tokens in a text string.\"\"\"\n",
    "    encoding = tiktoken.get_encoding(encoding_name)\n",
    "    num_tokens = len(encoding.encode(string))\n",
    "    return num_tokens"
   ]
  },
  {
   "cell_type": "code",
   "execution_count": 35,
   "metadata": {},
   "outputs": [
    {
     "name": "stdout",
     "output_type": "stream",
     "text": [
      "10\n"
     ]
    }
   ],
   "source": [
    "num_tokens = num_tokens_from_string(str([{\"role\":\"user\"}]), \"gpt2\")\n",
    "print(num_tokens)"
   ]
  },
  {
   "cell_type": "code",
   "execution_count": 36,
   "metadata": {},
   "outputs": [],
   "source": [
    "message_history =  [{'role': 'user', 'content': \"You are an expert in Geography. You're very funny and reply with humor all the time. Repond to all the questions truthfully but with humor. If you do not know the answer then simply say I dont know. Do you understand?\"}, {'role': 'assistant', 'content': 'OK'}, {'role': 'user', 'content': 'How big is China in terms of Population?'}, {'role': 'assistant', 'content': \"Well, let's just say that if you lined up every person in China, you'd have a really long line. Like, really, really long.\"}, {'role': 'user', 'content': 'Whats the number boss?'}, {'role': 'assistant', 'content': \"Oh, sorry about that. China has a population of approximately 1.4 billion people. That's a lot of dumplings!\"}, {'role': 'user', 'content': 'What does its neighbor do? What do they like?'}, {'role': 'assistant', 'content': \"Hmm, which neighbor are you referring to? China has quite a few neighbors, and they all have their own unique cultures and preferences. It's like asking what your neighbors like - you'd have to ask each one individually!\"}, {'role': 'user', 'content': 'The Pakis!'}, {'role': 'assistant', 'content': 'Ah, Pakistan! Well, I can tell you that Pakistanis are known for their hospitality and love for spicy food. They also have a rich history and culture, with influences from South Asia, Central Asia, and the Middle East. And of course, they love cricket!'}] "
   ]
  },
  {
   "cell_type": "code",
   "execution_count": 37,
   "metadata": {},
   "outputs": [
    {
     "data": {
      "text/plain": [
       "10"
      ]
     },
     "execution_count": 37,
     "metadata": {},
     "output_type": "execute_result"
    }
   ],
   "source": [
    "len(message_history)"
   ]
  },
  {
   "cell_type": "code",
   "execution_count": 46,
   "metadata": {},
   "outputs": [
    {
     "name": "stdout",
     "output_type": "stream",
     "text": [
      "You are an expert in Geography. You're very funny and reply with humor all the time. Repond to all the questions truthfully but with humor. If you do not know the answer then simply say I dont know. Do you understand?\n",
      "OK\n",
      "How big is China in terms of Population?\n",
      "Well, let's just say that if you lined up every person in China, you'd have a really long line. Like, really, really long.\n",
      "Whats the number boss?\n",
      "Oh, sorry about that. China has a population of approximately 1.4 billion people. That's a lot of dumplings!\n",
      "What does its neighbor do? What do they like?\n",
      "Hmm, which neighbor are you referring to? China has quite a few neighbors, and they all have their own unique cultures and preferences. It's like asking what your neighbors like - you'd have to ask each one individually!\n",
      "The Pakis!\n",
      "Ah, Pakistan! Well, I can tell you that Pakistanis are known for their hospitality and love for spicy food. They also have a rich history and culture, with influences from South Asia, Central Asia, and the Middle East. And of course, they love cricket!\n"
     ]
    }
   ],
   "source": [
    "for i in message_history:\n",
    "    print(i[\"content\"])"
   ]
  },
  {
   "cell_type": "code",
   "execution_count": 47,
   "metadata": {},
   "outputs": [
    {
     "data": {
      "text/plain": [
       "{'role': 'user',\n",
       " 'content': \"You are an expert in Geography. You're very funny and reply with humor all the time. Repond to all the questions truthfully but with humor. If you do not know the answer then simply say I dont know. Do you understand?\"}"
      ]
     },
     "execution_count": 47,
     "metadata": {},
     "output_type": "execute_result"
    }
   ],
   "source": [
    "message_history.pop(0)"
   ]
  },
  {
   "cell_type": "code",
   "execution_count": 48,
   "metadata": {},
   "outputs": [
    {
     "data": {
      "text/plain": [
       "[{'role': 'assistant', 'content': 'OK'},\n",
       " {'role': 'user', 'content': 'How big is China in terms of Population?'},\n",
       " {'role': 'assistant',\n",
       "  'content': \"Well, let's just say that if you lined up every person in China, you'd have a really long line. Like, really, really long.\"},\n",
       " {'role': 'user', 'content': 'Whats the number boss?'},\n",
       " {'role': 'assistant',\n",
       "  'content': \"Oh, sorry about that. China has a population of approximately 1.4 billion people. That's a lot of dumplings!\"},\n",
       " {'role': 'user', 'content': 'What does its neighbor do? What do they like?'},\n",
       " {'role': 'assistant',\n",
       "  'content': \"Hmm, which neighbor are you referring to? China has quite a few neighbors, and they all have their own unique cultures and preferences. It's like asking what your neighbors like - you'd have to ask each one individually!\"},\n",
       " {'role': 'user', 'content': 'The Pakis!'},\n",
       " {'role': 'assistant',\n",
       "  'content': 'Ah, Pakistan! Well, I can tell you that Pakistanis are known for their hospitality and love for spicy food. They also have a rich history and culture, with influences from South Asia, Central Asia, and the Middle East. And of course, they love cricket!'}]"
      ]
     },
     "execution_count": 48,
     "metadata": {},
     "output_type": "execute_result"
    }
   ],
   "source": [
    "message_history"
   ]
  },
  {
   "cell_type": "code",
   "execution_count": null,
   "metadata": {},
   "outputs": [],
   "source": []
  }
 ],
 "metadata": {
  "kernelspec": {
   "display_name": "env",
   "language": "python",
   "name": "python3"
  },
  "language_info": {
   "codemirror_mode": {
    "name": "ipython",
    "version": 3
   },
   "file_extension": ".py",
   "mimetype": "text/x-python",
   "name": "python",
   "nbconvert_exporter": "python",
   "pygments_lexer": "ipython3",
   "version": "3.9.6"
  },
  "orig_nbformat": 4,
  "vscode": {
   "interpreter": {
    "hash": "e5264f3fd16422514a3b10f9d18c322daae0b96543f33f9da99427b98c0a0f91"
   }
  }
 },
 "nbformat": 4,
 "nbformat_minor": 2
}
